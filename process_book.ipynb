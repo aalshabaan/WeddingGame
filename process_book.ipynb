{
 "cells": [
  {
   "cell_type": "markdown",
   "metadata": {
    "collapsed": true,
    "pycharm": {
     "name": "#%% md\n"
    }
   },
   "source": [
    "# Wedding Game Data Processing\n",
    "\n",
    "Hi! I see you've found my little nerd den!\n",
    "\n",
    "What you'll find down here is the data I put out for my wedding processed and visualised.\n",
    "\n",
    "As I'm writing this I don't know what exactly is the processing, but it will be fun, so hop along for the ride!"
   ]
  },
  {
   "cell_type": "markdown",
   "source": [
    "## 0) Importing stuff"
   ],
   "metadata": {
    "collapsed": false,
    "pycharm": {
     "name": "#%% md\n"
    }
   }
  },
  {
   "cell_type": "code",
   "execution_count": 45,
   "outputs": [],
   "source": [
    "import pandas as pd\n",
    "import numpy as np\n",
    "import seaborn as sns\n",
    "from matplotlib import pyplot as plt\n",
    "import re\n",
    "import networkx as nx\n",
    "from sklearn.preprocessing import StandardScaler\n",
    "\n",
    "%matplotlib inline"
   ],
   "metadata": {
    "collapsed": false,
    "pycharm": {
     "name": "#%%\n"
    }
   }
  },
  {
   "cell_type": "code",
   "execution_count": 2,
   "outputs": [
    {
     "name": "stdout",
     "output_type": "stream",
     "text": [
      "Horodateur                                                              datetime64[ns]\n",
      "Quelles langues parles-tu? (Cocher toutes les langues que tu parles)            object\n",
      "Genre                                                                           object\n",
      "Age (en ans)                                                                    object\n",
      "Taille (en cm)                                                                  object\n",
      "Poids (en Kg)                                                                   object\n",
      "Quelle est la distance tu vas parcourir pour rejoindre le mariage?              object\n",
      "Comment qualifies-tu ta relation avec: [Abed Alrahman]                          object\n",
      "Comment qualifies-tu ta relation avec: [Dania]                                  object\n",
      "dtype: object\n"
     ]
    },
    {
     "data": {
      "text/plain": "           Horodateur  \\\n0 2021-06-16 13:07:19   \n1 2021-06-16 13:09:30   \n2 2021-06-16 14:12:47   \n3 2021-06-16 20:40:55   \n4 2021-06-17 23:15:18   \n\n  Quelles langues parles-tu? (Cocher toutes les langues que tu parles)  \\\n0                                  Anglais, Français                     \n1                                    Français, Arabe                     \n2                           Anglais, Français, Arabe                     \n3        Anglais, Français, Arabe, chinois, allemand                     \n4                                  Anglais, Français                     \n\n     Genre Age (en ans) Taille (en cm) Poids (en Kg)  \\\n0     Mâle           24            193            70   \n1  Femelle           25            170            65   \n2     Mâle           23            172            75   \n3     Mâle           48            180            70   \n4     Mâle           26            170            60   \n\n  Quelle est la distance tu vas parcourir pour rejoindre le mariage?  \\\n0                                            201+ Km                   \n1                                            201+ Km                   \n2                                            201+ Km                   \n3                                         101-200 Km                   \n4                                            201+ Km                   \n\n  Comment qualifies-tu ta relation avec: [Abed Alrahman]  \\\n0                                         Ami proche       \n1                                                Ami       \n2                                         Ami proche       \n3                                            Famille       \n4                                               Qui?       \n\n  Comment qualifies-tu ta relation avec: [Dania]  \n0                                            Ami  \n1                                            Ami  \n2                                           Qui?  \n3                                   Connaissance  \n4                                           Qui?  ",
      "text/html": "<div>\n<style scoped>\n    .dataframe tbody tr th:only-of-type {\n        vertical-align: middle;\n    }\n\n    .dataframe tbody tr th {\n        vertical-align: top;\n    }\n\n    .dataframe thead th {\n        text-align: right;\n    }\n</style>\n<table border=\"1\" class=\"dataframe\">\n  <thead>\n    <tr style=\"text-align: right;\">\n      <th></th>\n      <th>Horodateur</th>\n      <th>Quelles langues parles-tu? (Cocher toutes les langues que tu parles)</th>\n      <th>Genre</th>\n      <th>Age (en ans)</th>\n      <th>Taille (en cm)</th>\n      <th>Poids (en Kg)</th>\n      <th>Quelle est la distance tu vas parcourir pour rejoindre le mariage?</th>\n      <th>Comment qualifies-tu ta relation avec: [Abed Alrahman]</th>\n      <th>Comment qualifies-tu ta relation avec: [Dania]</th>\n    </tr>\n  </thead>\n  <tbody>\n    <tr>\n      <th>0</th>\n      <td>2021-06-16 13:07:19</td>\n      <td>Anglais, Français</td>\n      <td>Mâle</td>\n      <td>24</td>\n      <td>193</td>\n      <td>70</td>\n      <td>201+ Km</td>\n      <td>Ami proche</td>\n      <td>Ami</td>\n    </tr>\n    <tr>\n      <th>1</th>\n      <td>2021-06-16 13:09:30</td>\n      <td>Français, Arabe</td>\n      <td>Femelle</td>\n      <td>25</td>\n      <td>170</td>\n      <td>65</td>\n      <td>201+ Km</td>\n      <td>Ami</td>\n      <td>Ami</td>\n    </tr>\n    <tr>\n      <th>2</th>\n      <td>2021-06-16 14:12:47</td>\n      <td>Anglais, Français, Arabe</td>\n      <td>Mâle</td>\n      <td>23</td>\n      <td>172</td>\n      <td>75</td>\n      <td>201+ Km</td>\n      <td>Ami proche</td>\n      <td>Qui?</td>\n    </tr>\n    <tr>\n      <th>3</th>\n      <td>2021-06-16 20:40:55</td>\n      <td>Anglais, Français, Arabe, chinois, allemand</td>\n      <td>Mâle</td>\n      <td>48</td>\n      <td>180</td>\n      <td>70</td>\n      <td>101-200 Km</td>\n      <td>Famille</td>\n      <td>Connaissance</td>\n    </tr>\n    <tr>\n      <th>4</th>\n      <td>2021-06-17 23:15:18</td>\n      <td>Anglais, Français</td>\n      <td>Mâle</td>\n      <td>26</td>\n      <td>170</td>\n      <td>60</td>\n      <td>201+ Km</td>\n      <td>Qui?</td>\n      <td>Qui?</td>\n    </tr>\n  </tbody>\n</table>\n</div>"
     },
     "execution_count": 2,
     "metadata": {},
     "output_type": "execute_result"
    }
   ],
   "source": [
    "fr = pd.read_csv('FR.csv', parse_dates=['Horodateur'], dtype=str)\n",
    "print(fr.dtypes)\n",
    "fr.head()"
   ],
   "metadata": {
    "collapsed": false,
    "pycharm": {
     "name": "#%%\n"
    }
   }
  },
  {
   "cell_type": "code",
   "execution_count": 3,
   "outputs": [
    {
     "name": "stdout",
     "output_type": "stream",
     "text": [
      "Horodateur                                                       datetime64[ns]\n",
      "What language do you speak? (Check all that apply)                       object\n",
      "Gender?                                                                  object\n",
      "Age (in years)                                                           object\n",
      "Height (in cm)                                                           object\n",
      "Weight (in kg)                                                           object\n",
      "How far would you have to come to join the wedding?                      object\n",
      "How would you qualify your relationship with: [Abed Alrahman]            object\n",
      "How would you qualify your relationship with: [Dania]                    object\n",
      "dtype: object\n"
     ]
    },
    {
     "data": {
      "text/plain": "           Horodateur What language do you speak? (Check all that apply)  \\\n0 2021-12-06 08:27:19                                             Arabic   \n1 2021-12-06 09:03:43                                             Arabic   \n2 2021-12-06 10:21:15                                             French   \n3 2021-12-06 10:26:56                                    English, French   \n4 2021-12-06 13:18:53                            English, French, Arabic   \n\n  Gender? Age (in years) Height (in cm) Weight (in kg)  \\\n0    Male             53            176            110   \n1    Male             11            143             32   \n2  Female             26            160             69   \n3  Female             26            163             56   \n4  Female             26            170             55   \n\n  How far would you have to come to join the wedding?  \\\n0                                            201+ Km    \n1                                            201+ Km    \n2                                            1-10 Km    \n3                                           11-30 Km    \n4                                            1-10 Km    \n\n  How would you qualify your relationship with: [Abed Alrahman]  \\\n0                                             Family              \n1                                             Family              \n2                                               Who?              \n3                                               Who?              \n4                                               Who?              \n\n  How would you qualify your relationship with: [Dania]  \n0                                             Family     \n1                                             Family     \n2                                             Family     \n3                                       Close Friend     \n4                                       Close Friend     ",
      "text/html": "<div>\n<style scoped>\n    .dataframe tbody tr th:only-of-type {\n        vertical-align: middle;\n    }\n\n    .dataframe tbody tr th {\n        vertical-align: top;\n    }\n\n    .dataframe thead th {\n        text-align: right;\n    }\n</style>\n<table border=\"1\" class=\"dataframe\">\n  <thead>\n    <tr style=\"text-align: right;\">\n      <th></th>\n      <th>Horodateur</th>\n      <th>What language do you speak? (Check all that apply)</th>\n      <th>Gender?</th>\n      <th>Age (in years)</th>\n      <th>Height (in cm)</th>\n      <th>Weight (in kg)</th>\n      <th>How far would you have to come to join the wedding?</th>\n      <th>How would you qualify your relationship with: [Abed Alrahman]</th>\n      <th>How would you qualify your relationship with: [Dania]</th>\n    </tr>\n  </thead>\n  <tbody>\n    <tr>\n      <th>0</th>\n      <td>2021-12-06 08:27:19</td>\n      <td>Arabic</td>\n      <td>Male</td>\n      <td>53</td>\n      <td>176</td>\n      <td>110</td>\n      <td>201+ Km</td>\n      <td>Family</td>\n      <td>Family</td>\n    </tr>\n    <tr>\n      <th>1</th>\n      <td>2021-12-06 09:03:43</td>\n      <td>Arabic</td>\n      <td>Male</td>\n      <td>11</td>\n      <td>143</td>\n      <td>32</td>\n      <td>201+ Km</td>\n      <td>Family</td>\n      <td>Family</td>\n    </tr>\n    <tr>\n      <th>2</th>\n      <td>2021-12-06 10:21:15</td>\n      <td>French</td>\n      <td>Female</td>\n      <td>26</td>\n      <td>160</td>\n      <td>69</td>\n      <td>1-10 Km</td>\n      <td>Who?</td>\n      <td>Family</td>\n    </tr>\n    <tr>\n      <th>3</th>\n      <td>2021-12-06 10:26:56</td>\n      <td>English, French</td>\n      <td>Female</td>\n      <td>26</td>\n      <td>163</td>\n      <td>56</td>\n      <td>11-30 Km</td>\n      <td>Who?</td>\n      <td>Close Friend</td>\n    </tr>\n    <tr>\n      <th>4</th>\n      <td>2021-12-06 13:18:53</td>\n      <td>English, French, Arabic</td>\n      <td>Female</td>\n      <td>26</td>\n      <td>170</td>\n      <td>55</td>\n      <td>1-10 Km</td>\n      <td>Who?</td>\n      <td>Close Friend</td>\n    </tr>\n  </tbody>\n</table>\n</div>"
     },
     "execution_count": 3,
     "metadata": {},
     "output_type": "execute_result"
    }
   ],
   "source": [
    "en = pd.read_csv('EN.csv', parse_dates=['Horodateur'], dtype=str)\n",
    "print(en.dtypes)\n",
    "en.head()"
   ],
   "metadata": {
    "collapsed": false,
    "pycharm": {
     "name": "#%%\n"
    }
   }
  },
  {
   "cell_type": "code",
   "execution_count": 4,
   "outputs": [
    {
     "name": "stdout",
     "output_type": "stream",
     "text": [
      "Horodateur                                        datetime64[ns]\n",
      "أي اللغات تتكلم؟ (اختر كل اللغات التي تتكلمها)            object\n",
      "الجنس؟                                                    object\n",
      "العمر (بالسنة)                                            object\n",
      "الطول (بالسنتيمتر)                                        object\n",
      "الوزن (بالكيلوجرام)                                       object\n",
      "ما هي المسافة التي ستقطعها لحضور الزفاف؟                  object\n",
      "كيف تصف علاقتك بـ: [عبد الرحمن]                           object\n",
      "كيف تصف علاقتك بـ: [دانية]                                object\n",
      "dtype: object\n"
     ]
    },
    {
     "data": {
      "text/plain": "           Horodateur أي اللغات تتكلم؟ (اختر كل اللغات التي تتكلمها) الجنس؟  \\\n0 2021-06-15 22:53:42                  الانجليزية, الفرنسية, العربية   أنثى   \n1 2021-06-15 23:00:19                                        العربية    ذكر   \n2 2021-06-16 14:04:03                            الانجليزية, العربية    ذكر   \n3 2021-06-16 14:20:32                    الانجليزية, العربية, الماني    ذكر   \n4 2021-06-16 19:55:40                                        العربية   أنثى   \n\n  العمر (بالسنة) الطول (بالسنتيمتر) الوزن (بالكيلوجرام)  \\\n0             55                166                  66   \n1             54                167                  82   \n2             36              10000               10000   \n3             24                176             ما حزرت   \n4             85                156                  65   \n\n  ما هي المسافة التي ستقطعها لحضور الزفاف؟ كيف تصف علاقتك بـ: [عبد الرحمن]  \\\n0                                  201+ Km                      من العائلة   \n1                                  201+ Km                      من العائلة   \n2                                  201+ Km                      من العائلة   \n3                                  201+ Km                         من هذا؟   \n4                                  201+ Km                      من العائلة   \n\n  كيف تصف علاقتك بـ: [دانية]  \n0                 من العائلة  \n1                 من العائلة  \n2                 من العائلة  \n3                      معرفة  \n4                 من العائلة  ",
      "text/html": "<div>\n<style scoped>\n    .dataframe tbody tr th:only-of-type {\n        vertical-align: middle;\n    }\n\n    .dataframe tbody tr th {\n        vertical-align: top;\n    }\n\n    .dataframe thead th {\n        text-align: right;\n    }\n</style>\n<table border=\"1\" class=\"dataframe\">\n  <thead>\n    <tr style=\"text-align: right;\">\n      <th></th>\n      <th>Horodateur</th>\n      <th>أي اللغات تتكلم؟ (اختر كل اللغات التي تتكلمها)</th>\n      <th>الجنس؟</th>\n      <th>العمر (بالسنة)</th>\n      <th>الطول (بالسنتيمتر)</th>\n      <th>الوزن (بالكيلوجرام)</th>\n      <th>ما هي المسافة التي ستقطعها لحضور الزفاف؟</th>\n      <th>كيف تصف علاقتك بـ: [عبد الرحمن]</th>\n      <th>كيف تصف علاقتك بـ: [دانية]</th>\n    </tr>\n  </thead>\n  <tbody>\n    <tr>\n      <th>0</th>\n      <td>2021-06-15 22:53:42</td>\n      <td>الانجليزية, الفرنسية, العربية</td>\n      <td>أنثى</td>\n      <td>55</td>\n      <td>166</td>\n      <td>66</td>\n      <td>201+ Km</td>\n      <td>من العائلة</td>\n      <td>من العائلة</td>\n    </tr>\n    <tr>\n      <th>1</th>\n      <td>2021-06-15 23:00:19</td>\n      <td>العربية</td>\n      <td>ذكر</td>\n      <td>54</td>\n      <td>167</td>\n      <td>82</td>\n      <td>201+ Km</td>\n      <td>من العائلة</td>\n      <td>من العائلة</td>\n    </tr>\n    <tr>\n      <th>2</th>\n      <td>2021-06-16 14:04:03</td>\n      <td>الانجليزية, العربية</td>\n      <td>ذكر</td>\n      <td>36</td>\n      <td>10000</td>\n      <td>10000</td>\n      <td>201+ Km</td>\n      <td>من العائلة</td>\n      <td>من العائلة</td>\n    </tr>\n    <tr>\n      <th>3</th>\n      <td>2021-06-16 14:20:32</td>\n      <td>الانجليزية, العربية, الماني</td>\n      <td>ذكر</td>\n      <td>24</td>\n      <td>176</td>\n      <td>ما حزرت</td>\n      <td>201+ Km</td>\n      <td>من هذا؟</td>\n      <td>معرفة</td>\n    </tr>\n    <tr>\n      <th>4</th>\n      <td>2021-06-16 19:55:40</td>\n      <td>العربية</td>\n      <td>أنثى</td>\n      <td>85</td>\n      <td>156</td>\n      <td>65</td>\n      <td>201+ Km</td>\n      <td>من العائلة</td>\n      <td>من العائلة</td>\n    </tr>\n  </tbody>\n</table>\n</div>"
     },
     "execution_count": 4,
     "metadata": {},
     "output_type": "execute_result"
    }
   ],
   "source": [
    "ar = pd.read_csv('AR.csv', parse_dates=['Horodateur'], dtype=str)\n",
    "print(ar.dtypes)\n",
    "ar.head()"
   ],
   "metadata": {
    "collapsed": false,
    "pycharm": {
     "name": "#%%\n"
    }
   }
  },
  {
   "cell_type": "markdown",
   "source": [
    "## 1) Cleaning and Preprocessing\n",
    "\n",
    "Map all column names to english to process them together"
   ],
   "metadata": {
    "collapsed": false,
    "pycharm": {
     "name": "#%% md\n"
    }
   }
  },
  {
   "cell_type": "code",
   "execution_count": 5,
   "outputs": [
    {
     "data": {
      "text/plain": "            timestamp                           lang gender age height  \\\n0 2021-06-15 22:53:42  الانجليزية, الفرنسية, العربية   أنثى  55    166   \n1 2021-06-15 23:00:19                        العربية    ذكر  54    167   \n2 2021-06-16 14:04:03            الانجليزية, العربية    ذكر  36  10000   \n3 2021-06-16 14:20:32    الانجليزية, العربية, الماني    ذكر  24    176   \n4 2021-06-16 19:55:40                        العربية   أنثى  85    156   \n\n    weight distance relation_abed relation_dania  \n0       66  201+ Km    من العائلة     من العائلة  \n1       82  201+ Km    من العائلة     من العائلة  \n2    10000  201+ Km    من العائلة     من العائلة  \n3  ما حزرت  201+ Km       من هذا؟          معرفة  \n4       65  201+ Km    من العائلة     من العائلة  ",
      "text/html": "<div>\n<style scoped>\n    .dataframe tbody tr th:only-of-type {\n        vertical-align: middle;\n    }\n\n    .dataframe tbody tr th {\n        vertical-align: top;\n    }\n\n    .dataframe thead th {\n        text-align: right;\n    }\n</style>\n<table border=\"1\" class=\"dataframe\">\n  <thead>\n    <tr style=\"text-align: right;\">\n      <th></th>\n      <th>timestamp</th>\n      <th>lang</th>\n      <th>gender</th>\n      <th>age</th>\n      <th>height</th>\n      <th>weight</th>\n      <th>distance</th>\n      <th>relation_abed</th>\n      <th>relation_dania</th>\n    </tr>\n  </thead>\n  <tbody>\n    <tr>\n      <th>0</th>\n      <td>2021-06-15 22:53:42</td>\n      <td>الانجليزية, الفرنسية, العربية</td>\n      <td>أنثى</td>\n      <td>55</td>\n      <td>166</td>\n      <td>66</td>\n      <td>201+ Km</td>\n      <td>من العائلة</td>\n      <td>من العائلة</td>\n    </tr>\n    <tr>\n      <th>1</th>\n      <td>2021-06-15 23:00:19</td>\n      <td>العربية</td>\n      <td>ذكر</td>\n      <td>54</td>\n      <td>167</td>\n      <td>82</td>\n      <td>201+ Km</td>\n      <td>من العائلة</td>\n      <td>من العائلة</td>\n    </tr>\n    <tr>\n      <th>2</th>\n      <td>2021-06-16 14:04:03</td>\n      <td>الانجليزية, العربية</td>\n      <td>ذكر</td>\n      <td>36</td>\n      <td>10000</td>\n      <td>10000</td>\n      <td>201+ Km</td>\n      <td>من العائلة</td>\n      <td>من العائلة</td>\n    </tr>\n    <tr>\n      <th>3</th>\n      <td>2021-06-16 14:20:32</td>\n      <td>الانجليزية, العربية, الماني</td>\n      <td>ذكر</td>\n      <td>24</td>\n      <td>176</td>\n      <td>ما حزرت</td>\n      <td>201+ Km</td>\n      <td>من هذا؟</td>\n      <td>معرفة</td>\n    </tr>\n    <tr>\n      <th>4</th>\n      <td>2021-06-16 19:55:40</td>\n      <td>العربية</td>\n      <td>أنثى</td>\n      <td>85</td>\n      <td>156</td>\n      <td>65</td>\n      <td>201+ Km</td>\n      <td>من العائلة</td>\n      <td>من العائلة</td>\n    </tr>\n  </tbody>\n</table>\n</div>"
     },
     "execution_count": 5,
     "metadata": {},
     "output_type": "execute_result"
    }
   ],
   "source": [
    "std_cols = ['timestamp', 'lang', 'gender', 'age', 'height', 'weight', 'distance', 'relation_abed', 'relation_dania']\n",
    "num_cols = ['age', 'height', 'weight']\n",
    "en.columns = std_cols\n",
    "fr.columns = std_cols\n",
    "ar.columns = std_cols\n",
    "ar.head()"
   ],
   "metadata": {
    "collapsed": false,
    "pycharm": {
     "name": "#%%\n"
    }
   }
  },
  {
   "cell_type": "markdown",
   "source": [
    "### 1.1) Clean Numeric Columns"
   ],
   "metadata": {
    "collapsed": false,
    "pycharm": {
     "name": "#%% md\n"
    }
   }
  },
  {
   "cell_type": "code",
   "execution_count": 6,
   "outputs": [],
   "source": [
    "def clean_nums(x: str):\n",
    "    if x.isnumeric():\n",
    "        return x\n",
    "    else:\n",
    "        nums = re.findall(r'[0-9]+', x)\n",
    "        if nums:\n",
    "            return nums[0]\n",
    "        else:\n",
    "            return np.nan"
   ],
   "metadata": {
    "collapsed": false,
    "pycharm": {
     "name": "#%%\n"
    }
   }
  },
  {
   "cell_type": "code",
   "execution_count": 7,
   "outputs": [
    {
     "name": "stdout",
     "output_type": "stream",
     "text": [
      "timestamp         datetime64[ns]\n",
      "lang                      object\n",
      "gender                    object\n",
      "age                        int64\n",
      "height                     int64\n",
      "weight                     int64\n",
      "distance                  object\n",
      "relation_abed             object\n",
      "relation_dania            object\n",
      "dtype: object\n"
     ]
    },
    {
     "data": {
      "text/plain": "            timestamp                     lang  gender  age  height  weight  \\\n0 2021-12-06 08:27:19                   Arabic    Male   53     176     110   \n1 2021-12-06 09:03:43                   Arabic    Male   11     143      32   \n2 2021-12-06 10:21:15                   French  Female   26     160      69   \n3 2021-12-06 10:26:56          English, French  Female   26     163      56   \n4 2021-12-06 13:18:53  English, French, Arabic  Female   26     170      55   \n\n   distance relation_abed relation_dania  \n0   201+ Km        Family         Family  \n1   201+ Km        Family         Family  \n2   1-10 Km          Who?         Family  \n3  11-30 Km          Who?   Close Friend  \n4   1-10 Km          Who?   Close Friend  ",
      "text/html": "<div>\n<style scoped>\n    .dataframe tbody tr th:only-of-type {\n        vertical-align: middle;\n    }\n\n    .dataframe tbody tr th {\n        vertical-align: top;\n    }\n\n    .dataframe thead th {\n        text-align: right;\n    }\n</style>\n<table border=\"1\" class=\"dataframe\">\n  <thead>\n    <tr style=\"text-align: right;\">\n      <th></th>\n      <th>timestamp</th>\n      <th>lang</th>\n      <th>gender</th>\n      <th>age</th>\n      <th>height</th>\n      <th>weight</th>\n      <th>distance</th>\n      <th>relation_abed</th>\n      <th>relation_dania</th>\n    </tr>\n  </thead>\n  <tbody>\n    <tr>\n      <th>0</th>\n      <td>2021-12-06 08:27:19</td>\n      <td>Arabic</td>\n      <td>Male</td>\n      <td>53</td>\n      <td>176</td>\n      <td>110</td>\n      <td>201+ Km</td>\n      <td>Family</td>\n      <td>Family</td>\n    </tr>\n    <tr>\n      <th>1</th>\n      <td>2021-12-06 09:03:43</td>\n      <td>Arabic</td>\n      <td>Male</td>\n      <td>11</td>\n      <td>143</td>\n      <td>32</td>\n      <td>201+ Km</td>\n      <td>Family</td>\n      <td>Family</td>\n    </tr>\n    <tr>\n      <th>2</th>\n      <td>2021-12-06 10:21:15</td>\n      <td>French</td>\n      <td>Female</td>\n      <td>26</td>\n      <td>160</td>\n      <td>69</td>\n      <td>1-10 Km</td>\n      <td>Who?</td>\n      <td>Family</td>\n    </tr>\n    <tr>\n      <th>3</th>\n      <td>2021-12-06 10:26:56</td>\n      <td>English, French</td>\n      <td>Female</td>\n      <td>26</td>\n      <td>163</td>\n      <td>56</td>\n      <td>11-30 Km</td>\n      <td>Who?</td>\n      <td>Close Friend</td>\n    </tr>\n    <tr>\n      <th>4</th>\n      <td>2021-12-06 13:18:53</td>\n      <td>English, French, Arabic</td>\n      <td>Female</td>\n      <td>26</td>\n      <td>170</td>\n      <td>55</td>\n      <td>1-10 Km</td>\n      <td>Who?</td>\n      <td>Close Friend</td>\n    </tr>\n  </tbody>\n</table>\n</div>"
     },
     "execution_count": 7,
     "metadata": {},
     "output_type": "execute_result"
    }
   ],
   "source": [
    "en[num_cols] = en[num_cols].applymap(clean_nums).apply(pd.to_numeric, axis=1)\n",
    "print(en.dtypes)\n",
    "en.head()"
   ],
   "metadata": {
    "collapsed": false,
    "pycharm": {
     "name": "#%%\n"
    }
   }
  },
  {
   "cell_type": "code",
   "execution_count": 8,
   "outputs": [
    {
     "name": "stdout",
     "output_type": "stream",
     "text": [
      "timestamp         datetime64[ns]\n",
      "lang                      object\n",
      "gender                    object\n",
      "age                      float64\n",
      "height                   float64\n",
      "weight                   float64\n",
      "distance                  object\n",
      "relation_abed             object\n",
      "relation_dania            object\n",
      "dtype: object\n"
     ]
    },
    {
     "data": {
      "text/plain": "            timestamp                                         lang   gender  \\\n0 2021-06-16 13:07:19                            Anglais, Français     Mâle   \n1 2021-06-16 13:09:30                              Français, Arabe  Femelle   \n2 2021-06-16 14:12:47                     Anglais, Français, Arabe     Mâle   \n3 2021-06-16 20:40:55  Anglais, Français, Arabe, chinois, allemand     Mâle   \n4 2021-06-17 23:15:18                            Anglais, Français     Mâle   \n\n    age  height  weight    distance relation_abed relation_dania  \n0  24.0   193.0    70.0     201+ Km    Ami proche            Ami  \n1  25.0   170.0    65.0     201+ Km           Ami            Ami  \n2  23.0   172.0    75.0     201+ Km    Ami proche           Qui?  \n3  48.0   180.0    70.0  101-200 Km       Famille   Connaissance  \n4  26.0   170.0    60.0     201+ Km          Qui?           Qui?  ",
      "text/html": "<div>\n<style scoped>\n    .dataframe tbody tr th:only-of-type {\n        vertical-align: middle;\n    }\n\n    .dataframe tbody tr th {\n        vertical-align: top;\n    }\n\n    .dataframe thead th {\n        text-align: right;\n    }\n</style>\n<table border=\"1\" class=\"dataframe\">\n  <thead>\n    <tr style=\"text-align: right;\">\n      <th></th>\n      <th>timestamp</th>\n      <th>lang</th>\n      <th>gender</th>\n      <th>age</th>\n      <th>height</th>\n      <th>weight</th>\n      <th>distance</th>\n      <th>relation_abed</th>\n      <th>relation_dania</th>\n    </tr>\n  </thead>\n  <tbody>\n    <tr>\n      <th>0</th>\n      <td>2021-06-16 13:07:19</td>\n      <td>Anglais, Français</td>\n      <td>Mâle</td>\n      <td>24.0</td>\n      <td>193.0</td>\n      <td>70.0</td>\n      <td>201+ Km</td>\n      <td>Ami proche</td>\n      <td>Ami</td>\n    </tr>\n    <tr>\n      <th>1</th>\n      <td>2021-06-16 13:09:30</td>\n      <td>Français, Arabe</td>\n      <td>Femelle</td>\n      <td>25.0</td>\n      <td>170.0</td>\n      <td>65.0</td>\n      <td>201+ Km</td>\n      <td>Ami</td>\n      <td>Ami</td>\n    </tr>\n    <tr>\n      <th>2</th>\n      <td>2021-06-16 14:12:47</td>\n      <td>Anglais, Français, Arabe</td>\n      <td>Mâle</td>\n      <td>23.0</td>\n      <td>172.0</td>\n      <td>75.0</td>\n      <td>201+ Km</td>\n      <td>Ami proche</td>\n      <td>Qui?</td>\n    </tr>\n    <tr>\n      <th>3</th>\n      <td>2021-06-16 20:40:55</td>\n      <td>Anglais, Français, Arabe, chinois, allemand</td>\n      <td>Mâle</td>\n      <td>48.0</td>\n      <td>180.0</td>\n      <td>70.0</td>\n      <td>101-200 Km</td>\n      <td>Famille</td>\n      <td>Connaissance</td>\n    </tr>\n    <tr>\n      <th>4</th>\n      <td>2021-06-17 23:15:18</td>\n      <td>Anglais, Français</td>\n      <td>Mâle</td>\n      <td>26.0</td>\n      <td>170.0</td>\n      <td>60.0</td>\n      <td>201+ Km</td>\n      <td>Qui?</td>\n      <td>Qui?</td>\n    </tr>\n  </tbody>\n</table>\n</div>"
     },
     "execution_count": 8,
     "metadata": {},
     "output_type": "execute_result"
    }
   ],
   "source": [
    "fr[num_cols] = fr[num_cols].applymap(clean_nums).apply(pd.to_numeric, axis=1)\n",
    "print(fr.dtypes)\n",
    "fr.head()"
   ],
   "metadata": {
    "collapsed": false,
    "pycharm": {
     "name": "#%%\n"
    }
   }
  },
  {
   "cell_type": "code",
   "execution_count": 9,
   "outputs": [
    {
     "name": "stdout",
     "output_type": "stream",
     "text": [
      "timestamp         datetime64[ns]\n",
      "lang                      object\n",
      "gender                    object\n",
      "age                      float64\n",
      "height                   float64\n",
      "weight                   float64\n",
      "distance                  object\n",
      "relation_abed             object\n",
      "relation_dania            object\n",
      "dtype: object\n"
     ]
    },
    {
     "data": {
      "text/plain": "            timestamp                           lang gender   age   height  \\\n0 2021-06-15 22:53:42  الانجليزية, الفرنسية, العربية   أنثى  55.0    166.0   \n1 2021-06-15 23:00:19                        العربية    ذكر  54.0    167.0   \n2 2021-06-16 14:04:03            الانجليزية, العربية    ذكر  36.0  10000.0   \n3 2021-06-16 14:20:32    الانجليزية, العربية, الماني    ذكر  24.0    176.0   \n4 2021-06-16 19:55:40                        العربية   أنثى  85.0    156.0   \n\n    weight distance relation_abed relation_dania  \n0     66.0  201+ Km    من العائلة     من العائلة  \n1     82.0  201+ Km    من العائلة     من العائلة  \n2  10000.0  201+ Km    من العائلة     من العائلة  \n3      NaN  201+ Km       من هذا؟          معرفة  \n4     65.0  201+ Km    من العائلة     من العائلة  ",
      "text/html": "<div>\n<style scoped>\n    .dataframe tbody tr th:only-of-type {\n        vertical-align: middle;\n    }\n\n    .dataframe tbody tr th {\n        vertical-align: top;\n    }\n\n    .dataframe thead th {\n        text-align: right;\n    }\n</style>\n<table border=\"1\" class=\"dataframe\">\n  <thead>\n    <tr style=\"text-align: right;\">\n      <th></th>\n      <th>timestamp</th>\n      <th>lang</th>\n      <th>gender</th>\n      <th>age</th>\n      <th>height</th>\n      <th>weight</th>\n      <th>distance</th>\n      <th>relation_abed</th>\n      <th>relation_dania</th>\n    </tr>\n  </thead>\n  <tbody>\n    <tr>\n      <th>0</th>\n      <td>2021-06-15 22:53:42</td>\n      <td>الانجليزية, الفرنسية, العربية</td>\n      <td>أنثى</td>\n      <td>55.0</td>\n      <td>166.0</td>\n      <td>66.0</td>\n      <td>201+ Km</td>\n      <td>من العائلة</td>\n      <td>من العائلة</td>\n    </tr>\n    <tr>\n      <th>1</th>\n      <td>2021-06-15 23:00:19</td>\n      <td>العربية</td>\n      <td>ذكر</td>\n      <td>54.0</td>\n      <td>167.0</td>\n      <td>82.0</td>\n      <td>201+ Km</td>\n      <td>من العائلة</td>\n      <td>من العائلة</td>\n    </tr>\n    <tr>\n      <th>2</th>\n      <td>2021-06-16 14:04:03</td>\n      <td>الانجليزية, العربية</td>\n      <td>ذكر</td>\n      <td>36.0</td>\n      <td>10000.0</td>\n      <td>10000.0</td>\n      <td>201+ Km</td>\n      <td>من العائلة</td>\n      <td>من العائلة</td>\n    </tr>\n    <tr>\n      <th>3</th>\n      <td>2021-06-16 14:20:32</td>\n      <td>الانجليزية, العربية, الماني</td>\n      <td>ذكر</td>\n      <td>24.0</td>\n      <td>176.0</td>\n      <td>NaN</td>\n      <td>201+ Km</td>\n      <td>من هذا؟</td>\n      <td>معرفة</td>\n    </tr>\n    <tr>\n      <th>4</th>\n      <td>2021-06-16 19:55:40</td>\n      <td>العربية</td>\n      <td>أنثى</td>\n      <td>85.0</td>\n      <td>156.0</td>\n      <td>65.0</td>\n      <td>201+ Km</td>\n      <td>من العائلة</td>\n      <td>من العائلة</td>\n    </tr>\n  </tbody>\n</table>\n</div>"
     },
     "execution_count": 9,
     "metadata": {},
     "output_type": "execute_result"
    }
   ],
   "source": [
    "ar[num_cols] = ar[num_cols].applymap(clean_nums).apply(pd.to_numeric, axis=1)\n",
    "print(ar.dtypes)\n",
    "ar.head()"
   ],
   "metadata": {
    "collapsed": false,
    "pycharm": {
     "name": "#%%\n"
    }
   }
  },
  {
   "cell_type": "markdown",
   "source": [
    "### 1.2) Map all Values to Uniform Tokens\n",
    "Starting with language values"
   ],
   "metadata": {
    "collapsed": false,
    "pycharm": {
     "name": "#%% md\n"
    }
   }
  },
  {
   "cell_type": "code",
   "execution_count": 10,
   "outputs": [],
   "source": [
    "ar_dict = {'العربية':'ar',\n",
    "           'الانجليزية':'en',\n",
    "           'الفرنسية':'fr',\n",
    "           'الماني':'de',\n",
    "           'الالمانية':'de',\n",
    "           'الألمانية':'de',\n",
    "           'Italiano':'it'}\n",
    "\n",
    "en_dict = {'Arabic':'ar',\n",
    "           'English':'en',\n",
    "           'French':'fr'}\n",
    "\n",
    "fr_dict = {'Arabe':'ar',\n",
    "           'Anglais':'en',\n",
    "           'Français':'fr',\n",
    "           'turc':'tr',\n",
    "           'chinois':'cn',\n",
    "           'allemand':'de',\n",
    "           'Allemand':'de',\n",
    "           'Farsi':'fa'}\n",
    "\n",
    "def clean_lang(x: str, user_lang='ar'):\n",
    "    langs = pd.Series([s.strip() for s in x.split(',')])\n",
    "    if user_lang == 'fr':\n",
    "        mapped = langs.map(fr_dict)\n",
    "        return mapped.values.tolist()\n",
    "    elif user_lang == 'en':\n",
    "        mapped = langs.map(en_dict)\n",
    "        return mapped.values.tolist()\n",
    "    else:\n",
    "        mapped = langs.map(ar_dict)\n",
    "        return mapped.values.tolist()"
   ],
   "metadata": {
    "collapsed": false,
    "pycharm": {
     "name": "#%%\n"
    }
   }
  },
  {
   "cell_type": "code",
   "execution_count": 11,
   "outputs": [
    {
     "data": {
      "text/plain": "0            [ar]\n1            [ar]\n2            [fr]\n3        [en, fr]\n4    [en, fr, ar]\n5    [en, fr, ar]\n6            [ar]\n7            [fr]\nName: lang, dtype: object"
     },
     "execution_count": 11,
     "metadata": {},
     "output_type": "execute_result"
    }
   ],
   "source": [
    "en['lang'] = en.lang.apply(clean_lang, user_lang='en')\n",
    "en.lang"
   ],
   "metadata": {
    "collapsed": false,
    "pycharm": {
     "name": "#%%\n"
    }
   }
  },
  {
   "cell_type": "code",
   "execution_count": 12,
   "outputs": [
    {
     "data": {
      "text/plain": "0                 [en, fr]\n1                 [fr, ar]\n2             [en, fr, ar]\n3     [en, fr, ar, cn, de]\n4                 [en, fr]\n5                     [fr]\n6             [en, fr, ar]\n7                     [fr]\n8                     [tr]\n9             [en, fr, ar]\n10        [en, fr, de, ar]\n11        [en, fr, ar, de]\n12            [en, de, fa]\n13                [en, fr]\n14                [fr, ar]\n15            [en, fr, ar]\n16            [en, fr, ar]\n17            [en, fr, ar]\n18            [en, fr, ar]\n19                [en, fr]\nName: lang, dtype: object"
     },
     "execution_count": 12,
     "metadata": {},
     "output_type": "execute_result"
    }
   ],
   "source": [
    "fr['lang'] = fr.lang.apply(clean_lang, user_lang='fr')\n",
    "fr.lang"
   ],
   "metadata": {
    "collapsed": false,
    "pycharm": {
     "name": "#%%\n"
    }
   }
  },
  {
   "cell_type": "code",
   "execution_count": 13,
   "outputs": [
    {
     "data": {
      "text/plain": "0     [en, fr, ar]\n1             [ar]\n2         [en, ar]\n3     [en, ar, de]\n4             [ar]\n5         [ar, it]\n6         [en, ar]\n7         [en, ar]\n8         [fr, ar]\n9         [fr, ar]\n10        [en, ar]\n11    [en, fr, ar]\n12        [fr, ar]\n13        [fr, ar]\n14        [fr, ar]\n15    [en, ar, de]\n16    [en, ar, de]\n17        [fr, ar]\n18    [en, fr, ar]\n19        [en, ar]\n20    [en, fr, ar]\n21            [ar]\n22    [en, fr, ar]\n23    [en, fr, ar]\n24            [ar]\n25            [ar]\nName: lang, dtype: object"
     },
     "execution_count": 13,
     "metadata": {},
     "output_type": "execute_result"
    }
   ],
   "source": [
    "ar['lang'] = ar.lang.apply(clean_lang, user_lang='ar')\n",
    "ar.lang"
   ],
   "metadata": {
    "collapsed": false,
    "pycharm": {
     "name": "#%%\n"
    }
   }
  },
  {
   "cell_type": "markdown",
   "source": [
    "The rest should be easier since we're just using categorical dummies"
   ],
   "metadata": {
    "collapsed": false,
    "pycharm": {
     "name": "#%% md\n"
    }
   }
  },
  {
   "cell_type": "code",
   "execution_count": 14,
   "outputs": [
    {
     "data": {
      "text/plain": "0     F\n1     M\n2     M\n3     M\n4     F\n5     F\n6     M\n7     F\n8     F\n9     F\n10    M\n11    M\n12    F\n13    F\n14    M\n15    M\n16    M\n17    F\n18    F\n19    F\n20    F\n21    F\n22    F\n23    F\n24    F\n25    F\nName: gender, dtype: object"
     },
     "execution_count": 14,
     "metadata": {},
     "output_type": "execute_result"
    }
   ],
   "source": [
    "en['gender'] = en.gender.map({'Male':'M', 'Female':'F'})\n",
    "fr['gender'] = fr.gender.map({'Mâle':'M', 'Femelle':'F'})\n",
    "ar['gender'] = ar.gender.map({'ذكر':'M', 'أنثى':'F'})\n",
    "ar.gender"
   ],
   "metadata": {
    "collapsed": false,
    "pycharm": {
     "name": "#%%\n"
    }
   }
  },
  {
   "cell_type": "code",
   "execution_count": 15,
   "outputs": [],
   "source": [
    "discrete_cols = ['relation_abed', 'relation_dania', 'distance']\n",
    "ar_rel_map = {'من هذا؟':0,\n",
    "              'معرفة':1,\n",
    "              'صديق':2,\n",
    "              'صديق مقرب':3,\n",
    "              'من العائلة':4}\n",
    "\n",
    "en_rel_map = {'Who?':0,\n",
    "              'Acquaintance':1,\n",
    "              'Friend':2,\n",
    "              'Close Friend':3,\n",
    "              'Family':4}\n",
    "\n",
    "fr_rel_map = {'Qui?':0,\n",
    "              'Connaissance':1,\n",
    "              'Ami':2,\n",
    "              'Ami proche':3,\n",
    "              'Famille':4}\n",
    "\n",
    "distance_map = {'1-10 Km':0,\n",
    "                '11-30 Km':1,\n",
    "                '31-50 Km':2,\n",
    "                '51-100 Km':3,\n",
    "                '101-200 Km':4,\n",
    "                '201+ Km':5}"
   ],
   "metadata": {
    "collapsed": false,
    "pycharm": {
     "name": "#%%\n"
    }
   }
  },
  {
   "cell_type": "code",
   "execution_count": 16,
   "outputs": [
    {
     "data": {
      "text/plain": "            timestamp          lang gender   age   height   weight distance  \\\n0 2021-06-15 22:53:42  [en, fr, ar]      F  55.0    166.0     66.0  201+ Km   \n1 2021-06-15 23:00:19          [ar]      M  54.0    167.0     82.0  201+ Km   \n2 2021-06-16 14:04:03      [en, ar]      M  36.0  10000.0  10000.0  201+ Km   \n3 2021-06-16 14:20:32  [en, ar, de]      M  24.0    176.0      NaN  201+ Km   \n4 2021-06-16 19:55:40          [ar]      F  85.0    156.0     65.0  201+ Km   \n\n  relation_abed relation_dania  relation_abed_num  relation_dania_num  \\\n0    من العائلة     من العائلة                  4                   4   \n1    من العائلة     من العائلة                  4                   4   \n2    من العائلة     من العائلة                  4                   4   \n3       من هذا؟          معرفة                  0                   1   \n4    من العائلة     من العائلة                  4                   4   \n\n   distance_num  \n0             5  \n1             5  \n2             5  \n3             5  \n4             5  ",
      "text/html": "<div>\n<style scoped>\n    .dataframe tbody tr th:only-of-type {\n        vertical-align: middle;\n    }\n\n    .dataframe tbody tr th {\n        vertical-align: top;\n    }\n\n    .dataframe thead th {\n        text-align: right;\n    }\n</style>\n<table border=\"1\" class=\"dataframe\">\n  <thead>\n    <tr style=\"text-align: right;\">\n      <th></th>\n      <th>timestamp</th>\n      <th>lang</th>\n      <th>gender</th>\n      <th>age</th>\n      <th>height</th>\n      <th>weight</th>\n      <th>distance</th>\n      <th>relation_abed</th>\n      <th>relation_dania</th>\n      <th>relation_abed_num</th>\n      <th>relation_dania_num</th>\n      <th>distance_num</th>\n    </tr>\n  </thead>\n  <tbody>\n    <tr>\n      <th>0</th>\n      <td>2021-06-15 22:53:42</td>\n      <td>[en, fr, ar]</td>\n      <td>F</td>\n      <td>55.0</td>\n      <td>166.0</td>\n      <td>66.0</td>\n      <td>201+ Km</td>\n      <td>من العائلة</td>\n      <td>من العائلة</td>\n      <td>4</td>\n      <td>4</td>\n      <td>5</td>\n    </tr>\n    <tr>\n      <th>1</th>\n      <td>2021-06-15 23:00:19</td>\n      <td>[ar]</td>\n      <td>M</td>\n      <td>54.0</td>\n      <td>167.0</td>\n      <td>82.0</td>\n      <td>201+ Km</td>\n      <td>من العائلة</td>\n      <td>من العائلة</td>\n      <td>4</td>\n      <td>4</td>\n      <td>5</td>\n    </tr>\n    <tr>\n      <th>2</th>\n      <td>2021-06-16 14:04:03</td>\n      <td>[en, ar]</td>\n      <td>M</td>\n      <td>36.0</td>\n      <td>10000.0</td>\n      <td>10000.0</td>\n      <td>201+ Km</td>\n      <td>من العائلة</td>\n      <td>من العائلة</td>\n      <td>4</td>\n      <td>4</td>\n      <td>5</td>\n    </tr>\n    <tr>\n      <th>3</th>\n      <td>2021-06-16 14:20:32</td>\n      <td>[en, ar, de]</td>\n      <td>M</td>\n      <td>24.0</td>\n      <td>176.0</td>\n      <td>NaN</td>\n      <td>201+ Km</td>\n      <td>من هذا؟</td>\n      <td>معرفة</td>\n      <td>0</td>\n      <td>1</td>\n      <td>5</td>\n    </tr>\n    <tr>\n      <th>4</th>\n      <td>2021-06-16 19:55:40</td>\n      <td>[ar]</td>\n      <td>F</td>\n      <td>85.0</td>\n      <td>156.0</td>\n      <td>65.0</td>\n      <td>201+ Km</td>\n      <td>من العائلة</td>\n      <td>من العائلة</td>\n      <td>4</td>\n      <td>4</td>\n      <td>5</td>\n    </tr>\n  </tbody>\n</table>\n</div>"
     },
     "execution_count": 16,
     "metadata": {},
     "output_type": "execute_result"
    }
   ],
   "source": [
    "ar['relation_abed_num'] = ar.relation_abed.map(ar_rel_map)\n",
    "ar['relation_dania_num'] = ar.relation_dania.map(ar_rel_map)\n",
    "ar['distance_num'] = ar.distance.map(distance_map)\n",
    "\n",
    "ar.head()"
   ],
   "metadata": {
    "collapsed": false,
    "pycharm": {
     "name": "#%%\n"
    }
   }
  },
  {
   "cell_type": "code",
   "execution_count": 17,
   "outputs": [
    {
     "data": {
      "text/plain": "            timestamp                  lang gender   age  height  weight  \\\n0 2021-06-16 13:07:19              [en, fr]      M  24.0   193.0    70.0   \n1 2021-06-16 13:09:30              [fr, ar]      F  25.0   170.0    65.0   \n2 2021-06-16 14:12:47          [en, fr, ar]      M  23.0   172.0    75.0   \n3 2021-06-16 20:40:55  [en, fr, ar, cn, de]      M  48.0   180.0    70.0   \n4 2021-06-17 23:15:18              [en, fr]      M  26.0   170.0    60.0   \n\n     distance relation_abed relation_dania  relation_abed_num  \\\n0     201+ Km    Ami proche            Ami                  3   \n1     201+ Km           Ami            Ami                  2   \n2     201+ Km    Ami proche           Qui?                  3   \n3  101-200 Km       Famille   Connaissance                  4   \n4     201+ Km          Qui?           Qui?                  0   \n\n   relation_dania_num  distance_num  \n0                   2             5  \n1                   2             5  \n2                   0             5  \n3                   1             4  \n4                   0             5  ",
      "text/html": "<div>\n<style scoped>\n    .dataframe tbody tr th:only-of-type {\n        vertical-align: middle;\n    }\n\n    .dataframe tbody tr th {\n        vertical-align: top;\n    }\n\n    .dataframe thead th {\n        text-align: right;\n    }\n</style>\n<table border=\"1\" class=\"dataframe\">\n  <thead>\n    <tr style=\"text-align: right;\">\n      <th></th>\n      <th>timestamp</th>\n      <th>lang</th>\n      <th>gender</th>\n      <th>age</th>\n      <th>height</th>\n      <th>weight</th>\n      <th>distance</th>\n      <th>relation_abed</th>\n      <th>relation_dania</th>\n      <th>relation_abed_num</th>\n      <th>relation_dania_num</th>\n      <th>distance_num</th>\n    </tr>\n  </thead>\n  <tbody>\n    <tr>\n      <th>0</th>\n      <td>2021-06-16 13:07:19</td>\n      <td>[en, fr]</td>\n      <td>M</td>\n      <td>24.0</td>\n      <td>193.0</td>\n      <td>70.0</td>\n      <td>201+ Km</td>\n      <td>Ami proche</td>\n      <td>Ami</td>\n      <td>3</td>\n      <td>2</td>\n      <td>5</td>\n    </tr>\n    <tr>\n      <th>1</th>\n      <td>2021-06-16 13:09:30</td>\n      <td>[fr, ar]</td>\n      <td>F</td>\n      <td>25.0</td>\n      <td>170.0</td>\n      <td>65.0</td>\n      <td>201+ Km</td>\n      <td>Ami</td>\n      <td>Ami</td>\n      <td>2</td>\n      <td>2</td>\n      <td>5</td>\n    </tr>\n    <tr>\n      <th>2</th>\n      <td>2021-06-16 14:12:47</td>\n      <td>[en, fr, ar]</td>\n      <td>M</td>\n      <td>23.0</td>\n      <td>172.0</td>\n      <td>75.0</td>\n      <td>201+ Km</td>\n      <td>Ami proche</td>\n      <td>Qui?</td>\n      <td>3</td>\n      <td>0</td>\n      <td>5</td>\n    </tr>\n    <tr>\n      <th>3</th>\n      <td>2021-06-16 20:40:55</td>\n      <td>[en, fr, ar, cn, de]</td>\n      <td>M</td>\n      <td>48.0</td>\n      <td>180.0</td>\n      <td>70.0</td>\n      <td>101-200 Km</td>\n      <td>Famille</td>\n      <td>Connaissance</td>\n      <td>4</td>\n      <td>1</td>\n      <td>4</td>\n    </tr>\n    <tr>\n      <th>4</th>\n      <td>2021-06-17 23:15:18</td>\n      <td>[en, fr]</td>\n      <td>M</td>\n      <td>26.0</td>\n      <td>170.0</td>\n      <td>60.0</td>\n      <td>201+ Km</td>\n      <td>Qui?</td>\n      <td>Qui?</td>\n      <td>0</td>\n      <td>0</td>\n      <td>5</td>\n    </tr>\n  </tbody>\n</table>\n</div>"
     },
     "execution_count": 17,
     "metadata": {},
     "output_type": "execute_result"
    }
   ],
   "source": [
    "en['relation_abed_num'] = en.relation_abed.map(en_rel_map)\n",
    "en['relation_dania_num'] = en.relation_dania.map(en_rel_map)\n",
    "en['distance_num'] = en.distance.map(distance_map)\n",
    "\n",
    "fr['relation_abed_num'] = fr.relation_abed.map(fr_rel_map)\n",
    "fr['relation_dania_num'] = fr.relation_dania.map(fr_rel_map)\n",
    "fr['distance_num'] = fr.distance.map(distance_map)\n",
    "\n",
    "fr.head()"
   ],
   "metadata": {
    "collapsed": false,
    "pycharm": {
     "name": "#%%\n"
    }
   }
  },
  {
   "cell_type": "markdown",
   "source": [
    "## 1.3) MERGE"
   ],
   "metadata": {
    "collapsed": false,
    "pycharm": {
     "name": "#%% md\n"
    }
   }
  },
  {
   "cell_type": "code",
   "execution_count": 18,
   "outputs": [
    {
     "name": "stdout",
     "output_type": "stream",
     "text": [
      "(54, 12)\n"
     ]
    },
    {
     "data": {
      "text/plain": "            timestamp          lang gender   age  height  weight  distance  \\\n0 2021-12-06 08:27:19          [ar]      M  53.0   176.0   110.0   201+ Km   \n1 2021-12-06 09:03:43          [ar]      M  11.0   143.0    32.0   201+ Km   \n2 2021-12-06 10:21:15          [fr]      F  26.0   160.0    69.0   1-10 Km   \n3 2021-12-06 10:26:56      [en, fr]      F  26.0   163.0    56.0  11-30 Km   \n4 2021-12-06 13:18:53  [en, fr, ar]      F  26.0   170.0    55.0   1-10 Km   \n\n  relation_abed relation_dania  relation_abed_num  relation_dania_num  \\\n0        Family         Family                  4                   4   \n1        Family         Family                  4                   4   \n2          Who?         Family                  0                   4   \n3          Who?   Close Friend                  0                   3   \n4          Who?   Close Friend                  0                   3   \n\n   distance_num  \n0             5  \n1             5  \n2             0  \n3             1  \n4             0  ",
      "text/html": "<div>\n<style scoped>\n    .dataframe tbody tr th:only-of-type {\n        vertical-align: middle;\n    }\n\n    .dataframe tbody tr th {\n        vertical-align: top;\n    }\n\n    .dataframe thead th {\n        text-align: right;\n    }\n</style>\n<table border=\"1\" class=\"dataframe\">\n  <thead>\n    <tr style=\"text-align: right;\">\n      <th></th>\n      <th>timestamp</th>\n      <th>lang</th>\n      <th>gender</th>\n      <th>age</th>\n      <th>height</th>\n      <th>weight</th>\n      <th>distance</th>\n      <th>relation_abed</th>\n      <th>relation_dania</th>\n      <th>relation_abed_num</th>\n      <th>relation_dania_num</th>\n      <th>distance_num</th>\n    </tr>\n  </thead>\n  <tbody>\n    <tr>\n      <th>0</th>\n      <td>2021-12-06 08:27:19</td>\n      <td>[ar]</td>\n      <td>M</td>\n      <td>53.0</td>\n      <td>176.0</td>\n      <td>110.0</td>\n      <td>201+ Km</td>\n      <td>Family</td>\n      <td>Family</td>\n      <td>4</td>\n      <td>4</td>\n      <td>5</td>\n    </tr>\n    <tr>\n      <th>1</th>\n      <td>2021-12-06 09:03:43</td>\n      <td>[ar]</td>\n      <td>M</td>\n      <td>11.0</td>\n      <td>143.0</td>\n      <td>32.0</td>\n      <td>201+ Km</td>\n      <td>Family</td>\n      <td>Family</td>\n      <td>4</td>\n      <td>4</td>\n      <td>5</td>\n    </tr>\n    <tr>\n      <th>2</th>\n      <td>2021-12-06 10:21:15</td>\n      <td>[fr]</td>\n      <td>F</td>\n      <td>26.0</td>\n      <td>160.0</td>\n      <td>69.0</td>\n      <td>1-10 Km</td>\n      <td>Who?</td>\n      <td>Family</td>\n      <td>0</td>\n      <td>4</td>\n      <td>0</td>\n    </tr>\n    <tr>\n      <th>3</th>\n      <td>2021-12-06 10:26:56</td>\n      <td>[en, fr]</td>\n      <td>F</td>\n      <td>26.0</td>\n      <td>163.0</td>\n      <td>56.0</td>\n      <td>11-30 Km</td>\n      <td>Who?</td>\n      <td>Close Friend</td>\n      <td>0</td>\n      <td>3</td>\n      <td>1</td>\n    </tr>\n    <tr>\n      <th>4</th>\n      <td>2021-12-06 13:18:53</td>\n      <td>[en, fr, ar]</td>\n      <td>F</td>\n      <td>26.0</td>\n      <td>170.0</td>\n      <td>55.0</td>\n      <td>1-10 Km</td>\n      <td>Who?</td>\n      <td>Close Friend</td>\n      <td>0</td>\n      <td>3</td>\n      <td>0</td>\n    </tr>\n  </tbody>\n</table>\n</div>"
     },
     "execution_count": 18,
     "metadata": {},
     "output_type": "execute_result"
    }
   ],
   "source": [
    "df = pd.concat([en, fr, ar], axis=0).reset_index().drop('index', axis=1)\n",
    "print(df.shape)\n",
    "df.head()"
   ],
   "metadata": {
    "collapsed": false,
    "pycharm": {
     "name": "#%%\n"
    }
   }
  },
  {
   "cell_type": "markdown",
   "source": [
    "## 2) Processing\n",
    "### 2.1) Participation Rate"
   ],
   "metadata": {
    "collapsed": false,
    "pycharm": {
     "name": "#%% md\n"
    }
   }
  },
  {
   "cell_type": "code",
   "source": [
    "plt.pie(x=[df.shape[0], 76-df.shape[0]], labels=[f'{100*df.shape[0]/76:.2f}% participated', f'{100 * (76 - df.shape[0]) / 76:.2f}% didn\\'t Participate'])\n",
    "plt.title('Participation Rate')\n",
    "plt.savefig('figures/participation.pdf')\n",
    "plt.show()"
   ],
   "metadata": {
    "collapsed": false,
    "pycharm": {
     "name": "#%%\n"
    }
   },
   "execution_count": 19,
   "outputs": [
    {
     "data": {
      "text/plain": "<Figure size 432x288 with 1 Axes>",
      "image/png": "[encoded data removed]"
     },
     "metadata": {},
     "output_type": "display_data"
    }
   ]
  },
  {
   "cell_type": "markdown",
   "source": [
    "### 2.2) Language Distribution"
   ],
   "metadata": {
    "collapsed": false,
    "pycharm": {
     "name": "#%% md\n"
    }
   }
  },
  {
   "cell_type": "code",
   "execution_count": 20,
   "outputs": [
    {
     "data": {
      "text/plain": "<Figure size 432x288 with 1 Axes>",
      "image/png": "[encoded data removed]"
     },
     "metadata": {
      "needs_background": "light"
     },
     "output_type": "display_data"
    }
   ],
   "source": [
    "sns.histplot(data=df.explode('lang'),x='lang')\n",
    "plt.title('Languages of the audience')\n",
    "plt.savefig('figures/langs.pdf')\n",
    "plt.show()"
   ],
   "metadata": {
    "collapsed": false,
    "pycharm": {
     "name": "#%%\n"
    }
   }
  },
  {
   "cell_type": "code",
   "execution_count": 21,
   "outputs": [
    {
     "data": {
      "text/plain": "<Figure size 432x288 with 1 Axes>",
      "image/png": "[encoded data removed]"
     },
     "metadata": {
      "needs_background": "light"
     },
     "output_type": "display_data"
    }
   ],
   "source": [
    "nb_votes = df.lang.explode().shape[0]\n",
    "(nb_votes - df.lang.explode().value_counts()).plot.bar(title='Votes that didn\\'t go to each language' )\n",
    "plt.savefig('figures/langs_neg.pdf')\n",
    "plt.show()"
   ],
   "metadata": {
    "collapsed": false,
    "pycharm": {
     "name": "#%%\n"
    }
   }
  },
  {
   "cell_type": "code",
   "execution_count": 22,
   "outputs": [
    {
     "data": {
      "text/plain": "<Figure size 360x360 with 1 Axes>",
      "image/png": "[encoded data removed]"
     },
     "metadata": {
      "needs_background": "light"
     },
     "output_type": "display_data"
    }
   ],
   "source": [
    "#fig, axs = plt.subplots(3, 1)\n",
    "sns.displot(data=df, x='height')\n",
    "plt.savefig('figures/height_scuffed.pdf')\n",
    "plt.show()"
   ],
   "metadata": {
    "collapsed": false,
    "pycharm": {
     "name": "#%%\n"
    }
   }
  },
  {
   "cell_type": "code",
   "execution_count": 23,
   "outputs": [
    {
     "data": {
      "text/plain": "<Figure size 432x288 with 1 Axes>",
      "image/png": "[encoded data removed]"
     },
     "metadata": {
      "needs_background": "light"
     },
     "output_type": "display_data"
    }
   ],
   "source": [
    "sns.boxplot(data=df, x='height')\n",
    "plt.show()"
   ],
   "metadata": {
    "collapsed": false,
    "pycharm": {
     "name": "#%%\n"
    }
   }
  },
  {
   "cell_type": "markdown",
   "source": [
    "Some funny guy, let's chop him down"
   ],
   "metadata": {
    "collapsed": false,
    "pycharm": {
     "name": "#%% md\n"
    }
   }
  },
  {
   "cell_type": "code",
   "execution_count": 24,
   "outputs": [
    {
     "data": {
      "text/plain": "<Figure size 432x288 with 1 Axes>",
      "image/png": "[encoded data removed]"
     },
     "metadata": {
      "needs_background": "light"
     },
     "output_type": "display_data"
    }
   ],
   "source": [
    "df.loc[df['height'] > 250, num_cols] = df[num_cols].mean(0)\n",
    "sns.boxplot(data=df, x='height')\n",
    "plt.show()"
   ],
   "metadata": {
    "collapsed": false,
    "pycharm": {
     "name": "#%%\n"
    }
   }
  },
  {
   "cell_type": "code",
   "execution_count": 93,
   "outputs": [
    {
     "data": {
      "text/plain": "<Figure size 864x288 with 3 Axes>",
      "image/png": "[encoded data removed]"
     },
     "metadata": {
      "needs_background": "light"
     },
     "output_type": "display_data"
    }
   ],
   "source": [
    "fig, axs = plt.subplots(1,3, figsize=(12,4))\n",
    "fig.suptitle('Height Distribution')\n",
    "sns.histplot(data=df, x='height', ax=axs[1], color='orange')\n",
    "axs[1].set_title('Overall')\n",
    "sns.histplot(data=df[df.gender=='M'],x='height',  ax=axs[0] )\n",
    "axs[0].set_title('Male')\n",
    "sns.histplot(data=df[df.gender=='F'], x='height', ax=axs[2], color='pink')\n",
    "axs[2].set_title('Female')\n",
    "plt.tight_layout()\n",
    "plt.savefig('figures/height.pdf')\n",
    "plt.show()"
   ],
   "metadata": {
    "collapsed": false,
    "pycharm": {
     "name": "#%%\n"
    }
   }
  },
  {
   "cell_type": "code",
   "execution_count": 94,
   "outputs": [
    {
     "data": {
      "text/plain": "<Figure size 864x288 with 3 Axes>",
      "image/png": "[encoded data removed]"
     },
     "metadata": {
      "needs_background": "light"
     },
     "output_type": "display_data"
    }
   ],
   "source": [
    "fig, axs = plt.subplots(1,3, figsize=(12,4))\n",
    "fig.suptitle('Weight Distribution')\n",
    "sns.histplot(data=df, x='weight', ax=axs[1], color='orange')\n",
    "axs[1].set_title('Overall')\n",
    "sns.histplot(data=df[df.gender=='M'],x='weight',  ax=axs[0] )\n",
    "axs[0].set_title('Male')\n",
    "sns.histplot(data=df[df.gender=='F'], x='weight', ax=axs[2], color='pink')\n",
    "axs[2].set_title('Female')\n",
    "plt.tight_layout()\n",
    "plt.savefig('figures/weight.pdf')\n",
    "plt.show()"
   ],
   "metadata": {
    "collapsed": false,
    "pycharm": {
     "name": "#%%\n"
    }
   }
  },
  {
   "cell_type": "code",
   "execution_count": 98,
   "outputs": [
    {
     "data": {
      "text/plain": "<Figure size 864x288 with 3 Axes>",
      "image/png": "[encoded data removed]"
     },
     "metadata": {
      "needs_background": "light"
     },
     "output_type": "display_data"
    }
   ],
   "source": [
    "fig, axs = plt.subplots(1,3, figsize=(12,4))\n",
    "fig.suptitle('Age Distribution')\n",
    "sns.histplot(data=df, x='age', ax=axs[1], color='orange')\n",
    "axs[1].set_title('Overall')\n",
    "sns.histplot(data=df[df.gender=='M'],x='age',  ax=axs[0] )\n",
    "axs[0].set_title('Male')\n",
    "sns.histplot(data=df[df.gender=='F'], x='age', ax=axs[2], color='pink')\n",
    "axs[2].set_title('Female')\n",
    "plt.tight_layout()\n",
    "plt.savefig('figures/age.pdf')\n",
    "plt.show()"
   ],
   "metadata": {
    "collapsed": false,
    "pycharm": {
     "name": "#%%\n"
    }
   }
  },
  {
   "cell_type": "code",
   "execution_count": 28,
   "outputs": [
    {
     "data": {
      "text/plain": "<Figure size 432x288 with 1 Axes>",
      "image/png": "[encoded data removed]"
     },
     "metadata": {
      "needs_background": "light"
     },
     "output_type": "display_data"
    }
   ],
   "source": [
    "fig, ax = plt.subplots(1,1)\n",
    "sns.histplot(data=df[df.gender == 'M'], x='gender', ax=ax)\n",
    "sns.histplot(data=df[df.gender == 'F'], x='gender', ax=ax, color='pink')\n",
    "plt.title('Gender Distribution')\n",
    "plt.show()"
   ],
   "metadata": {
    "collapsed": false,
    "pycharm": {
     "name": "#%%\n"
    }
   }
  },
  {
   "cell_type": "code",
   "execution_count": 108,
   "outputs": [
    {
     "data": {
      "text/plain": "<Figure size 864x288 with 3 Axes>",
      "image/png": "[encoded data removed]"
     },
     "metadata": {
      "needs_background": "light"
     },
     "output_type": "display_data"
    }
   ],
   "source": [
    "fig, axs = plt.subplots(1,3, figsize=(12,4))\n",
    "fig.suptitle('Popularity Distribution')\n",
    "sns.histplot(data=df, x='relation_abed_num', ax=axs[1], bins=5)\n",
    "sns.histplot(data=df, x='relation_dania_num', ax=axs[1], color='pink', bins=5)\n",
    "axs[1].set_title('Overall')\n",
    "axs[1].set_xlabel('')\n",
    "axs[1].set_xticks(range(5))\n",
    "axs[1].set_xticklabels(en_rel_map.keys(), )\n",
    "axs[1].legend(['Abed Alrahman', 'Dania'])\n",
    "for tick in axs[1].get_xticklabels():\n",
    "    tick.set_rotation(45)\n",
    "\n",
    "sns.histplot(data=df[df.gender == 'M'], x='relation_abed_num', ax=axs[0], bins=5)\n",
    "sns.histplot(data=df[df.gender == 'M'], x='relation_dania_num', ax=axs[0], color='pink', bins=5)\n",
    "axs[0].set_title('Men')\n",
    "axs[0].set_xlabel('')\n",
    "axs[0].set_xticks(range(5))\n",
    "axs[0].set_xticklabels(en_rel_map.keys(), )\n",
    "axs[0].legend(['Abed Alrahman', 'Dania'])\n",
    "for tick in axs[0].get_xticklabels():\n",
    "    tick.set_rotation(45)\n",
    "\n",
    "sns.histplot(data=df[df.gender =='F'], x='relation_abed_num', ax=axs[2], bins=5)\n",
    "sns.histplot(data=df[df.gender == 'F'], x='relation_dania_num', ax=axs[2], color='pink', bins=5)\n",
    "axs[2].set_title('Women')\n",
    "axs[2].set_xlabel('')\n",
    "axs[2].set_xticks(range(5))\n",
    "axs[2].set_xticklabels(en_rel_map.keys(), )\n",
    "axs[2].legend(['Abed Alrahman', 'Dania'])\n",
    "for tick in axs[2].get_xticklabels():\n",
    "    tick.set_rotation(45)\n",
    "plt.tight_layout()\n",
    "plt.savefig('figures/popularity.pdf')\n",
    "plt.show()"
   ],
   "metadata": {
    "collapsed": false,
    "pycharm": {
     "name": "#%%\n"
    }
   }
  },
  {
   "cell_type": "code",
   "execution_count": null,
   "outputs": [],
   "source": [],
   "metadata": {
    "collapsed": false,
    "pycharm": {
     "name": "#%%\n"
    }
   }
  },
  {
   "cell_type": "code",
   "execution_count": 106,
   "outputs": [
    {
     "data": {
      "text/plain": "<Figure size 864x288 with 3 Axes>",
      "image/png": "[encoded data removed]"
     },
     "metadata": {
      "needs_background": "light"
     },
     "output_type": "display_data"
    }
   ],
   "source": [
    "fig, axs = plt.subplots(1,3, figsize=(12,4))\n",
    "fig.suptitle('Distance Distribution')\n",
    "sns.histplot(data=df, x='distance_num', ax=axs[1], color='orange', )\n",
    "axs[1].set_title('Overall')\n",
    "axs[1].set_xlabel('')\n",
    "axs[1].set_xticks(range(6))\n",
    "axs[1].set_xticklabels(distance_map.keys(), )\n",
    "for tick in axs[1].get_xticklabels():\n",
    "    tick.set_rotation(45)\n",
    "sns.histplot(data=df[df.gender=='M'],x='distance_num',  ax=axs[0], bins=6)\n",
    "axs[0].set_title('Male')\n",
    "axs[0].set_xlabel('')\n",
    "axs[0].set_xticks(range(6))\n",
    "axs[0].set_xticklabels(distance_map.keys())\n",
    "for tick in axs[0].get_xticklabels():\n",
    "    tick.set_rotation(45)\n",
    "sns.histplot(data=df[df.gender=='F'], x='distance_num', ax=axs[2], color='pink', bins=6)\n",
    "axs[2].set_title('Female')\n",
    "axs[2].set_xlabel('')\n",
    "axs[2].set_xticks(range(6))\n",
    "axs[2].set_xticklabels(distance_map.keys())\n",
    "for tick in axs[2].get_xticklabels():\n",
    "    tick.set_rotation(45)\n",
    "plt.tight_layout()\n",
    "plt.savefig('figures/distance.pdf')\n",
    "plt.show()"
   ],
   "metadata": {
    "collapsed": false,
    "pycharm": {
     "name": "#%%\n"
    }
   }
  },
  {
   "cell_type": "markdown",
   "source": [
    "## 3) Calculating the average person\n",
    "Here's a bad way to do it, by not recognising that data is missing nor that data has different scales"
   ],
   "metadata": {
    "collapsed": false,
    "pycharm": {
     "name": "#%% md\n"
    }
   }
  },
  {
   "cell_type": "code",
   "source": [
    "mean_df = df.dropna().mean(0, numeric_only=True)\n",
    "num_cols = mean_df.keys()\n",
    "mean_df"
   ],
   "metadata": {
    "collapsed": false,
    "pycharm": {
     "name": "#%%\n"
    }
   },
   "execution_count": 42,
   "outputs": [
    {
     "data": {
      "text/plain": "age                    34.583333\nheight                168.916667\nweight                 66.250000\nrelation_abed_num       2.020833\nrelation_dania_num      2.312500\ndistance_num            3.145833\ndtype: float64"
     },
     "execution_count": 42,
     "metadata": {},
     "output_type": "execute_result"
    }
   ]
  },
  {
   "cell_type": "code",
   "execution_count": 43,
   "outputs": [
    {
     "data": {
      "text/plain": "age                    31.941176\nheight                176.352941\nweight                 75.764706\nrelation_abed_num       2.823529\nrelation_dania_num      1.588235\ndistance_num            4.529412\ndtype: float64"
     },
     "execution_count": 43,
     "metadata": {},
     "output_type": "execute_result"
    }
   ],
   "source": [
    "df[df.gender=='M'].dropna().mean(0, numeric_only=True)"
   ],
   "metadata": {
    "collapsed": false,
    "pycharm": {
     "name": "#%%\n"
    }
   }
  },
  {
   "cell_type": "code",
   "execution_count": 44,
   "outputs": [
    {
     "data": {
      "text/plain": "age                    36.032258\nheight                164.838710\nweight                 61.032258\nrelation_abed_num       1.580645\nrelation_dania_num      2.709677\ndistance_num            2.387097\ndtype: float64"
     },
     "execution_count": 44,
     "metadata": {},
     "output_type": "execute_result"
    }
   ],
   "source": [
    "df[df.gender=='F'].dropna().mean(0, numeric_only=True)"
   ],
   "metadata": {
    "collapsed": false,
    "pycharm": {
     "name": "#%%\n"
    }
   }
  },
  {
   "cell_type": "markdown",
   "source": [
    "Note That that is the average point in Eucledian space without normalisation.\n",
    "\n",
    "Using that average and calculating the closet point gives us the following results:\n"
   ],
   "metadata": {
    "collapsed": false,
    "pycharm": {
     "name": "#%% md\n"
    }
   }
  },
  {
   "cell_type": "code",
   "execution_count": 67,
   "outputs": [
    {
     "data": {
      "text/plain": "timestamp             2021-06-30 21:17:28\nlang                         [en, fr, ar]\ngender                                  F\nage                                  35.0\nheight                              165.0\nweight                               65.0\ndistance                         11-30 Km\nrelation_abed                     من هذا؟\nrelation_dania                  صديق مقرب\nrelation_abed_num                       0\nrelation_dania_num                      3\ndistance_num                            1\nName: 48, dtype: object"
     },
     "execution_count": 67,
     "metadata": {},
     "output_type": "execute_result"
    }
   ],
   "source": [
    "dist_to_avg = np.sqrt((df.dropna()[num_cols]- df.mean(0, numeric_only=True)).pow(2).sum(1))\n",
    "min_idx = dist_to_avg.idxmin()\n",
    "df.loc[min_idx]"
   ],
   "metadata": {
    "collapsed": false,
    "pycharm": {
     "name": "#%%\n"
    }
   }
  },
  {
   "cell_type": "code",
   "execution_count": 68,
   "outputs": [
    {
     "data": {
      "text/plain": "timestamp             2021-08-07 00:38:25\nlang                         [en, fr, ar]\ngender                                  F\nage                                  35.0\nheight                              165.0\nweight                               61.0\ndistance                          1-10 Km\nrelation_abed                        صديق\nrelation_dania                  صديق مقرب\nrelation_abed_num                       2\nrelation_dania_num                      3\ndistance_num                            0\nName: 51, dtype: object"
     },
     "execution_count": 68,
     "metadata": {},
     "output_type": "execute_result"
    }
   ],
   "source": [
    "reduced = df[df.gender == 'F']\n",
    "dist_to_avg = np.sqrt((reduced.dropna()[num_cols]- reduced.mean(0, numeric_only=True)).pow(2).sum(1))\n",
    "min_idx = dist_to_avg.idxmin()\n",
    "df.loc[min_idx]"
   ],
   "metadata": {
    "collapsed": false,
    "pycharm": {
     "name": "#%%\n"
    }
   }
  },
  {
   "cell_type": "code",
   "execution_count": 69,
   "outputs": [
    {
     "data": {
      "text/plain": "timestamp             2021-06-26 22:48:58\nlang                         [en, ar, de]\ngender                                  M\nage                                  25.0\nheight                              181.0\nweight                               81.0\ndistance                          201+ Km\nrelation_abed                   صديق مقرب\nrelation_dania                    من هذا؟\nrelation_abed_num                       3\nrelation_dania_num                      0\ndistance_num                            5\nName: 44, dtype: object"
     },
     "execution_count": 69,
     "metadata": {},
     "output_type": "execute_result"
    }
   ],
   "source": [
    "reduced = df[df.gender == 'M']\n",
    "dist_to_avg = np.sqrt((reduced.dropna()[num_cols]- reduced.mean(0, numeric_only=True)).pow(2).sum(1))\n",
    "min_idx = dist_to_avg.idxmin()\n",
    "df.loc[min_idx]"
   ],
   "metadata": {
    "collapsed": false,
    "pycharm": {
     "name": "#%%\n"
    }
   }
  },
  {
   "cell_type": "markdown",
   "source": [
    "Note how height dominates the distance calculation as its scale allows it to have bigger values.\n",
    "\n",
    "A solution is to normalise the data in order to make it have the same scale."
   ],
   "metadata": {
    "collapsed": false,
    "pycharm": {
     "name": "#%% md\n"
    }
   }
  },
  {
   "cell_type": "code",
   "execution_count": 59,
   "outputs": [
    {
     "data": {
      "text/plain": "             timestamp          lang gender   age  height  weight  distance  \\\n36 2021-06-19 02:57:59      [fr, ar]      F  42.0   164.0    65.0   201+ Km   \n9  2021-06-16 13:09:30      [fr, ar]      F  25.0   170.0    65.0   201+ Km   \n16 2021-06-21 10:53:49          [tr]      F  30.0   168.0    60.0  11-30 Km   \n43 2021-06-26 22:48:49  [en, ar, de]      M  25.0   170.0    82.0   201+ Km   \n22 2021-06-27 20:17:22      [fr, ar]      F  25.0   158.0    60.0   1-10 Km   \n\n   relation_abed relation_dania  relation_abed_num  relation_dania_num  \\\n36          صديق          معرفة                  2                   1   \n9            Ami            Ami                  2                   2   \n16           Ami     Ami proche                  2                   3   \n43     صديق مقرب        من هذا؟                  3                   0   \n22  Connaissance     Ami proche                  1                   3   \n\n    distance_num  \n36             5  \n9              5  \n16             1  \n43             5  \n22             0  ",
      "text/html": "<div>\n<style scoped>\n    .dataframe tbody tr th:only-of-type {\n        vertical-align: middle;\n    }\n\n    .dataframe tbody tr th {\n        vertical-align: top;\n    }\n\n    .dataframe thead th {\n        text-align: right;\n    }\n</style>\n<table border=\"1\" class=\"dataframe\">\n  <thead>\n    <tr style=\"text-align: right;\">\n      <th></th>\n      <th>timestamp</th>\n      <th>lang</th>\n      <th>gender</th>\n      <th>age</th>\n      <th>height</th>\n      <th>weight</th>\n      <th>distance</th>\n      <th>relation_abed</th>\n      <th>relation_dania</th>\n      <th>relation_abed_num</th>\n      <th>relation_dania_num</th>\n      <th>distance_num</th>\n    </tr>\n  </thead>\n  <tbody>\n    <tr>\n      <th>36</th>\n      <td>2021-06-19 02:57:59</td>\n      <td>[fr, ar]</td>\n      <td>F</td>\n      <td>42.0</td>\n      <td>164.0</td>\n      <td>65.0</td>\n      <td>201+ Km</td>\n      <td>صديق</td>\n      <td>معرفة</td>\n      <td>2</td>\n      <td>1</td>\n      <td>5</td>\n    </tr>\n    <tr>\n      <th>9</th>\n      <td>2021-06-16 13:09:30</td>\n      <td>[fr, ar]</td>\n      <td>F</td>\n      <td>25.0</td>\n      <td>170.0</td>\n      <td>65.0</td>\n      <td>201+ Km</td>\n      <td>Ami</td>\n      <td>Ami</td>\n      <td>2</td>\n      <td>2</td>\n      <td>5</td>\n    </tr>\n    <tr>\n      <th>16</th>\n      <td>2021-06-21 10:53:49</td>\n      <td>[tr]</td>\n      <td>F</td>\n      <td>30.0</td>\n      <td>168.0</td>\n      <td>60.0</td>\n      <td>11-30 Km</td>\n      <td>Ami</td>\n      <td>Ami proche</td>\n      <td>2</td>\n      <td>3</td>\n      <td>1</td>\n    </tr>\n    <tr>\n      <th>43</th>\n      <td>2021-06-26 22:48:49</td>\n      <td>[en, ar, de]</td>\n      <td>M</td>\n      <td>25.0</td>\n      <td>170.0</td>\n      <td>82.0</td>\n      <td>201+ Km</td>\n      <td>صديق مقرب</td>\n      <td>من هذا؟</td>\n      <td>3</td>\n      <td>0</td>\n      <td>5</td>\n    </tr>\n    <tr>\n      <th>22</th>\n      <td>2021-06-27 20:17:22</td>\n      <td>[fr, ar]</td>\n      <td>F</td>\n      <td>25.0</td>\n      <td>158.0</td>\n      <td>60.0</td>\n      <td>1-10 Km</td>\n      <td>Connaissance</td>\n      <td>Ami proche</td>\n      <td>1</td>\n      <td>3</td>\n      <td>0</td>\n    </tr>\n  </tbody>\n</table>\n</div>"
     },
     "execution_count": 59,
     "metadata": {},
     "output_type": "execute_result"
    }
   ],
   "source": [
    "normalised = StandardScaler().fit_transform(df.dropna()[num_cols])\n",
    "dist_to_avg = np.sqrt(((normalised- normalised.mean(0))**2).sum(1))\n",
    "min_idx = pd.Series(dist_to_avg).sort_values(ascending=True)[:5].keys()\n",
    "df.loc[min_idx]"
   ],
   "metadata": {
    "collapsed": false,
    "pycharm": {
     "name": "#%%\n"
    }
   }
  },
  {
   "cell_type": "code",
   "execution_count": 62,
   "outputs": [
    {
     "data": {
      "text/plain": "             timestamp          lang gender   age  height  weight   distance  \\\n16 2021-06-21 10:53:49          [tr]      F  30.0   168.0    60.0   11-30 Km   \n51 2021-08-07 00:38:25  [en, fr, ar]      F  35.0   165.0    61.0    1-10 Km   \n48 2021-06-30 21:17:28  [en, fr, ar]      F  35.0   165.0    65.0   11-30 Km   \n49 2021-01-07 19:40:14          [ar]      F  44.0   167.0    75.0   11-30 Km   \n35 2021-06-17 07:13:43      [en, ar]      F  48.0   161.0    54.0  51-100 Km   \n\n   relation_abed relation_dania  relation_abed_num  relation_dania_num  \\\n16           Ami     Ami proche                  2                   3   \n51          صديق      صديق مقرب                  2                   3   \n48       من هذا؟      صديق مقرب                  0                   3   \n49          صديق           صديق                  2                   2   \n35          صديق           صديق                  2                   2   \n\n    distance_num  \n16             1  \n51             0  \n48             1  \n49             1  \n35             3  ",
      "text/html": "<div>\n<style scoped>\n    .dataframe tbody tr th:only-of-type {\n        vertical-align: middle;\n    }\n\n    .dataframe tbody tr th {\n        vertical-align: top;\n    }\n\n    .dataframe thead th {\n        text-align: right;\n    }\n</style>\n<table border=\"1\" class=\"dataframe\">\n  <thead>\n    <tr style=\"text-align: right;\">\n      <th></th>\n      <th>timestamp</th>\n      <th>lang</th>\n      <th>gender</th>\n      <th>age</th>\n      <th>height</th>\n      <th>weight</th>\n      <th>distance</th>\n      <th>relation_abed</th>\n      <th>relation_dania</th>\n      <th>relation_abed_num</th>\n      <th>relation_dania_num</th>\n      <th>distance_num</th>\n    </tr>\n  </thead>\n  <tbody>\n    <tr>\n      <th>16</th>\n      <td>2021-06-21 10:53:49</td>\n      <td>[tr]</td>\n      <td>F</td>\n      <td>30.0</td>\n      <td>168.0</td>\n      <td>60.0</td>\n      <td>11-30 Km</td>\n      <td>Ami</td>\n      <td>Ami proche</td>\n      <td>2</td>\n      <td>3</td>\n      <td>1</td>\n    </tr>\n    <tr>\n      <th>51</th>\n      <td>2021-08-07 00:38:25</td>\n      <td>[en, fr, ar]</td>\n      <td>F</td>\n      <td>35.0</td>\n      <td>165.0</td>\n      <td>61.0</td>\n      <td>1-10 Km</td>\n      <td>صديق</td>\n      <td>صديق مقرب</td>\n      <td>2</td>\n      <td>3</td>\n      <td>0</td>\n    </tr>\n    <tr>\n      <th>48</th>\n      <td>2021-06-30 21:17:28</td>\n      <td>[en, fr, ar]</td>\n      <td>F</td>\n      <td>35.0</td>\n      <td>165.0</td>\n      <td>65.0</td>\n      <td>11-30 Km</td>\n      <td>من هذا؟</td>\n      <td>صديق مقرب</td>\n      <td>0</td>\n      <td>3</td>\n      <td>1</td>\n    </tr>\n    <tr>\n      <th>49</th>\n      <td>2021-01-07 19:40:14</td>\n      <td>[ar]</td>\n      <td>F</td>\n      <td>44.0</td>\n      <td>167.0</td>\n      <td>75.0</td>\n      <td>11-30 Km</td>\n      <td>صديق</td>\n      <td>صديق</td>\n      <td>2</td>\n      <td>2</td>\n      <td>1</td>\n    </tr>\n    <tr>\n      <th>35</th>\n      <td>2021-06-17 07:13:43</td>\n      <td>[en, ar]</td>\n      <td>F</td>\n      <td>48.0</td>\n      <td>161.0</td>\n      <td>54.0</td>\n      <td>51-100 Km</td>\n      <td>صديق</td>\n      <td>صديق</td>\n      <td>2</td>\n      <td>2</td>\n      <td>3</td>\n    </tr>\n  </tbody>\n</table>\n</div>"
     },
     "execution_count": 62,
     "metadata": {},
     "output_type": "execute_result"
    }
   ],
   "source": [
    "reduced = df[df.gender == 'F'].dropna()\n",
    "normalised = StandardScaler().fit_transform(reduced[num_cols])\n",
    "dist_to_avg = np.sqrt(((normalised- normalised.mean(0))**2).sum(1))\n",
    "min_idx = pd.Series(dist_to_avg).sort_values(ascending=True)[:5].keys()\n",
    "reduced.iloc[min_idx]"
   ],
   "metadata": {
    "collapsed": false,
    "pycharm": {
     "name": "#%%\n"
    }
   }
  },
  {
   "cell_type": "code",
   "execution_count": 63,
   "outputs": [
    {
     "data": {
      "text/plain": "             timestamp              lang gender   age  height  weight  \\\n44 2021-06-26 22:48:58      [en, ar, de]      M  25.0   181.0    81.0   \n10 2021-06-16 14:12:47      [en, fr, ar]      M  23.0   172.0    75.0   \n43 2021-06-26 22:48:49      [en, ar, de]      M  25.0   170.0    82.0   \n42 2021-06-26 18:36:16          [fr, ar]      M  24.0   173.0    60.0   \n18 2021-06-22 17:49:25  [en, fr, de, ar]      M  23.0   182.0    64.0   \n\n      distance relation_abed relation_dania  relation_abed_num  \\\n44     201+ Km     صديق مقرب        من هذا؟                  3   \n10     201+ Km    Ami proche           Qui?                  3   \n43     201+ Km     صديق مقرب        من هذا؟                  3   \n42  101-200 Km          صديق           صديق                  2   \n18  101-200 Km           Ami           Qui?                  2   \n\n    relation_dania_num  distance_num  \n44                   0             5  \n10                   0             5  \n43                   0             5  \n42                   2             4  \n18                   0             4  ",
      "text/html": "<div>\n<style scoped>\n    .dataframe tbody tr th:only-of-type {\n        vertical-align: middle;\n    }\n\n    .dataframe tbody tr th {\n        vertical-align: top;\n    }\n\n    .dataframe thead th {\n        text-align: right;\n    }\n</style>\n<table border=\"1\" class=\"dataframe\">\n  <thead>\n    <tr style=\"text-align: right;\">\n      <th></th>\n      <th>timestamp</th>\n      <th>lang</th>\n      <th>gender</th>\n      <th>age</th>\n      <th>height</th>\n      <th>weight</th>\n      <th>distance</th>\n      <th>relation_abed</th>\n      <th>relation_dania</th>\n      <th>relation_abed_num</th>\n      <th>relation_dania_num</th>\n      <th>distance_num</th>\n    </tr>\n  </thead>\n  <tbody>\n    <tr>\n      <th>44</th>\n      <td>2021-06-26 22:48:58</td>\n      <td>[en, ar, de]</td>\n      <td>M</td>\n      <td>25.0</td>\n      <td>181.0</td>\n      <td>81.0</td>\n      <td>201+ Km</td>\n      <td>صديق مقرب</td>\n      <td>من هذا؟</td>\n      <td>3</td>\n      <td>0</td>\n      <td>5</td>\n    </tr>\n    <tr>\n      <th>10</th>\n      <td>2021-06-16 14:12:47</td>\n      <td>[en, fr, ar]</td>\n      <td>M</td>\n      <td>23.0</td>\n      <td>172.0</td>\n      <td>75.0</td>\n      <td>201+ Km</td>\n      <td>Ami proche</td>\n      <td>Qui?</td>\n      <td>3</td>\n      <td>0</td>\n      <td>5</td>\n    </tr>\n    <tr>\n      <th>43</th>\n      <td>2021-06-26 22:48:49</td>\n      <td>[en, ar, de]</td>\n      <td>M</td>\n      <td>25.0</td>\n      <td>170.0</td>\n      <td>82.0</td>\n      <td>201+ Km</td>\n      <td>صديق مقرب</td>\n      <td>من هذا؟</td>\n      <td>3</td>\n      <td>0</td>\n      <td>5</td>\n    </tr>\n    <tr>\n      <th>42</th>\n      <td>2021-06-26 18:36:16</td>\n      <td>[fr, ar]</td>\n      <td>M</td>\n      <td>24.0</td>\n      <td>173.0</td>\n      <td>60.0</td>\n      <td>101-200 Km</td>\n      <td>صديق</td>\n      <td>صديق</td>\n      <td>2</td>\n      <td>2</td>\n      <td>4</td>\n    </tr>\n    <tr>\n      <th>18</th>\n      <td>2021-06-22 17:49:25</td>\n      <td>[en, fr, de, ar]</td>\n      <td>M</td>\n      <td>23.0</td>\n      <td>182.0</td>\n      <td>64.0</td>\n      <td>101-200 Km</td>\n      <td>Ami</td>\n      <td>Qui?</td>\n      <td>2</td>\n      <td>0</td>\n      <td>4</td>\n    </tr>\n  </tbody>\n</table>\n</div>"
     },
     "execution_count": 63,
     "metadata": {},
     "output_type": "execute_result"
    }
   ],
   "source": [
    "reduced = df[df.gender == 'M'].dropna()\n",
    "normalised = StandardScaler().fit_transform(reduced[num_cols])\n",
    "dist_to_avg = np.sqrt(((normalised- normalised.mean(0))**2).sum(1))\n",
    "min_idx = pd.Series(dist_to_avg).sort_values(ascending=True)[:5].keys()\n",
    "reduced.iloc[min_idx]"
   ],
   "metadata": {
    "collapsed": false,
    "pycharm": {
     "name": "#%%\n"
    }
   }
  },
  {
   "cell_type": "markdown",
   "source": [
    "# T-Shirt Design\n"
   ],
   "metadata": {
    "collapsed": false,
    "pycharm": {
     "name": "#%% md\n"
    }
   }
  },
  {
   "cell_type": "code",
   "execution_count": 121,
   "outputs": [
    {
     "data": {
      "text/plain": "<Figure size 432x288 with 1 Axes>",
      "image/png": "[encoded data removed]"
     },
     "metadata": {},
     "output_type": "display_data"
    }
   ],
   "source": [
    "with plt.xkcd():\n",
    "    xs = np.linspace(-3, 3, 2000)\n",
    "    plt.plot(xs, np.exp(-xs**2), c='k')\n",
    "    plt.title('I AM AVERAGE!')\n",
    "plt.savefig('figures/T-shirt.pdf')\n",
    "plt.show()"
   ],
   "metadata": {
    "collapsed": false,
    "pycharm": {
     "name": "#%%\n"
    }
   }
  }
 ],
 "metadata": {
  "kernelspec": {
   "display_name": "Python 3",
   "language": "python",
   "name": "python3"
  },
  "language_info": {
   "codemirror_mode": {
    "name": "ipython",
    "version": 2
   },
   "file_extension": ".py",
   "mimetype": "text/x-python",
   "name": "python",
   "nbconvert_exporter": "python",
   "pygments_lexer": "ipython2",
   "version": "2.7.6"
  }
 },
 "nbformat": 4,
 "nbformat_minor": 0
}